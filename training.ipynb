{
 "cells": [
  {
   "metadata": {},
   "cell_type": "code",
   "outputs": [],
   "execution_count": null,
   "source": [
    "from tomlkit import document\n",
    "!pip install vanna"
   ],
   "id": "b0388713a17e8b19"
  },
  {
   "cell_type": "code",
   "id": "initial_id",
   "metadata": {
    "collapsed": true,
    "ExecuteTime": {
     "end_time": "2024-09-11T09:24:32.480297Z",
     "start_time": "2024-09-11T09:24:31.337652Z"
    }
   },
   "source": [
    "from vanna.remote import VannaDefault\n",
    "import os"
   ],
   "outputs": [],
   "execution_count": 1
  },
  {
   "metadata": {
    "ExecuteTime": {
     "end_time": "2024-09-11T09:24:34.062713Z",
     "start_time": "2024-09-11T09:24:32.510334Z"
    }
   },
   "cell_type": "code",
   "source": [
    "api_key = os.getenv(\"VANNA_API_KEY\")\n",
    "vanna_model_name = \t\"unimelb-handbook-chatbot\"\n",
    "vn = VannaDefault(model=vanna_model_name, api_key=api_key)\n",
    "vn.connect_to_postgres(dbname=\"postgres\",user=\"postgres.seqkcnapvgkwqbqipqqs\",password=\"IT Web Server12\",host=\"aws-0-ap-southeast-2.pooler.supabase.com\",port=6543)"
   ],
   "id": "8793aa190890d921",
   "outputs": [
    {
     "data": {
      "text/plain": [
       "'8d5ccca05db59cb375c49736247e4246-sql'"
      ]
     },
     "execution_count": 2,
     "metadata": {},
     "output_type": "execute_result"
    }
   ],
   "execution_count": 2
  },
  {
   "metadata": {},
   "cell_type": "markdown",
   "source": "> Training the model with the SQL queries and the questions pairs",
   "id": "7f6d2ddc976e1098"
  },
  {
   "metadata": {},
   "cell_type": "code",
   "outputs": [],
   "execution_count": null,
   "source": [
    "vn.train(\n",
    "    question= \"What are the assessments for COMP10001?\", \n",
    "    sql=\"\"\"SELECT a.description, a.timing, a.percentage\n",
    "        FROM subjects AS s INNER JOIN assessments AS a ON s.assessment_id = a.assessment_id\n",
    "        WHERE s.subject_code = COMP10001\"\"\"\n",
    ")\n",
    "vn.train(question= \"What are the aims for COMP10002?\",\n",
    "         sql=\"\"\" SELECT aims\n",
    "         FROM subjects\n",
    "         WHERE subject_code = 'COMP10001'\"\"\")"
   ],
   "id": "3fb03f84b6692335"
  },
  {
   "metadata": {},
   "cell_type": "markdown",
   "source": "> Or you can train the model with the documentation",
   "id": "bcf0f471f6a09d16"
  },
  {
   "metadata": {},
   "cell_type": "code",
   "outputs": [],
   "execution_count": null,
   "source": "vn.train(documentation=\"User can ask about the information of a subject by providing the subject code or subject name.\")",
   "id": "a45576802e523032"
  },
  {
   "metadata": {},
   "cell_type": "code",
   "outputs": [],
   "execution_count": null,
   "source": "vn.get_training_data()",
   "id": "347ca9e1df8a90bb"
  }
 ],
 "metadata": {
  "kernelspec": {
   "display_name": "Python 3",
   "language": "python",
   "name": "python3"
  },
  "language_info": {
   "codemirror_mode": {
    "name": "ipython",
    "version": 2
   },
   "file_extension": ".py",
   "mimetype": "text/x-python",
   "name": "python",
   "nbconvert_exporter": "python",
   "pygments_lexer": "ipython2",
   "version": "2.7.6"
  }
 },
 "nbformat": 4,
 "nbformat_minor": 5
}
